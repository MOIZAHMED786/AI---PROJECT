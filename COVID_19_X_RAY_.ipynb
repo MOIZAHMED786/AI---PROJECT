{
  "nbformat": 4,
  "nbformat_minor": 0,
  "metadata": {
    "colab": {
      "name": "COVID 19 X-RAY .ipynb",
      "provenance": [],
      "authorship_tag": "ABX9TyPG+gv0HILj0ZRjxZTBr4Qh",
      "include_colab_link": true
    },
    "kernelspec": {
      "name": "python3",
      "display_name": "Python 3"
    }
  },
  "cells": [
    {
      "cell_type": "markdown",
      "metadata": {
        "id": "view-in-github",
        "colab_type": "text"
      },
      "source": [
        "<a href=\"https://colab.research.google.com/github/MOIZAHMED786/AI---PROJECT/blob/master/COVID_19_X_RAY_.ipynb\" target=\"_parent\"><img src=\"https://colab.research.google.com/assets/colab-badge.svg\" alt=\"Open In Colab\"/></a>"
      ]
    },
    {
      "cell_type": "code",
      "metadata": {
        "id": "VaHrycAR2TG2",
        "colab_type": "code",
        "colab": {}
      },
      "source": [
        "import pandas as pd\n",
        "import numpy as np\n",
        "import tensorflow as tf\n",
        "import matplotlib.pyplot as plt\n",
        "import os , shutil                                          "
      ],
      "execution_count": 0,
      "outputs": []
    },
    {
      "cell_type": "code",
      "metadata": {
        "id": "Js1Q7Sm02f9u",
        "colab_type": "code",
        "outputId": "f70cb22c-eeb2-4e98-b812-0addda460b28",
        "colab": {
          "base_uri": "https://localhost:8080/",
          "height": 34
        }
      },
      "source": [
        "from keras import models\n",
        "from keras import layers\n",
        "from keras import optimizers\n",
        "from keras.preprocessing import image\n",
        "from keras.preprocessing.image import ImageDataGenerator\n"
      ],
      "execution_count": 0,
      "outputs": [
        {
          "output_type": "stream",
          "text": [
            "Using TensorFlow backend.\n"
          ],
          "name": "stderr"
        }
      ]
    },
    {
      "cell_type": "code",
      "metadata": {
        "id": "cI9R_luzwmwD",
        "colab_type": "code",
        "outputId": "69d68ac3-3de2-4919-a057-5e6cfd3dc7cb",
        "colab": {
          "base_uri": "https://localhost:8080/",
          "height": 121
        }
      },
      "source": [
        "from google.colab import drive\n",
        "drive.mount('/content/drive')"
      ],
      "execution_count": 0,
      "outputs": [
        {
          "output_type": "stream",
          "text": [
            "Go to this URL in a browser: https://accounts.google.com/o/oauth2/auth?client_id=947318989803-6bn6qk8qdgf4n4g3pfee6491hc0brc4i.apps.googleusercontent.com&redirect_uri=urn%3aietf%3awg%3aoauth%3a2.0%3aoob&response_type=code&scope=email%20https%3a%2f%2fwww.googleapis.com%2fauth%2fdocs.test%20https%3a%2f%2fwww.googleapis.com%2fauth%2fdrive%20https%3a%2f%2fwww.googleapis.com%2fauth%2fdrive.photos.readonly%20https%3a%2f%2fwww.googleapis.com%2fauth%2fpeopleapi.readonly\n",
            "\n",
            "Enter your authorization code:\n",
            "··········\n",
            "Mounted at /content/drive\n"
          ],
          "name": "stdout"
        }
      ]
    },
    {
      "cell_type": "code",
      "metadata": {
        "id": "QZFvqC9T3Sxn",
        "colab_type": "code",
        "outputId": "16ea78a7-b27c-457b-e969-637f79c508b6",
        "colab": {
          "base_uri": "https://localhost:8080/",
          "height": 34
        }
      },
      "source": [
        "source = 'drive/My Drive/COVID X-RAY DATASET'\n",
        "print(os.path.exists(source))"
      ],
      "execution_count": 0,
      "outputs": [
        {
          "output_type": "stream",
          "text": [
            "True\n"
          ],
          "name": "stdout"
        }
      ]
    },
    {
      "cell_type": "code",
      "metadata": {
        "id": "w7M_n8br6dkr",
        "colab_type": "code",
        "colab": {}
      },
      "source": [
        "train = os.path.join(source, 'train')"
      ],
      "execution_count": 0,
      "outputs": []
    },
    {
      "cell_type": "code",
      "metadata": {
        "id": "1llD9U07w81c",
        "colab_type": "code",
        "colab": {}
      },
      "source": [
        "val = os.path.join(source, 'val')\n",
        "\n",
        "test = os.path.join(source, 'test')\n"
      ],
      "execution_count": 0,
      "outputs": []
    },
    {
      "cell_type": "code",
      "metadata": {
        "id": "FNr4t7P9FFEs",
        "colab_type": "code",
        "colab": {}
      },
      "source": [
        "gen = ImageDataGenerator(rescale=1./255, rotation_range=40, \n",
        "                         width_shift_range= 0.2,\n",
        "                         height_shift_range= 0.2,\n",
        "                         zoom_range = 0.2, \n",
        "                         shear_range= 0.2,\n",
        "                         fill_mode = 'nearest')"
      ],
      "execution_count": 0,
      "outputs": []
    },
    {
      "cell_type": "code",
      "metadata": {
        "id": "K8wNJrwHFKi9",
        "colab_type": "code",
        "outputId": "7cb5be00-3e77-4f11-989d-2af5355e1825",
        "colab": {
          "base_uri": "https://localhost:8080/",
          "height": 34
        }
      },
      "source": [
        "train_gen = gen.flow_from_directory(train , target_size= (200,200) , class_mode='binary' , batch_size=20  )"
      ],
      "execution_count": 0,
      "outputs": [
        {
          "output_type": "stream",
          "text": [
            "Found 244 images belonging to 2 classes.\n"
          ],
          "name": "stdout"
        }
      ]
    },
    {
      "cell_type": "code",
      "metadata": {
        "id": "M_Wb6tWsFOle",
        "colab_type": "code",
        "outputId": "c01ea744-822a-42fd-e283-a0cc7a5b398d",
        "colab": {
          "base_uri": "https://localhost:8080/",
          "height": 34
        }
      },
      "source": [
        "val_gen = gen.flow_from_directory(val , target_size=(200,200) , class_mode=\"binary\" , batch_size=20)"
      ],
      "execution_count": 0,
      "outputs": [
        {
          "output_type": "stream",
          "text": [
            "Found 20 images belonging to 2 classes.\n"
          ],
          "name": "stdout"
        }
      ]
    },
    {
      "cell_type": "code",
      "metadata": {
        "id": "AVmJmiMRK4l7",
        "colab_type": "code",
        "colab": {}
      },
      "source": [
        "model = models.Sequential()\n",
        "model.add(layers.Conv2D(32,(3,3), activation='relu' , input_shape = (200,200,3)))\n",
        "model.add(layers.Conv2D(32,(3,3), activation='relu'))\n",
        "model.add(layers.MaxPooling2D((2, 2)))\n",
        "model.add(layers.Conv2D(64, (3, 3), activation='relu'))\n",
        "model.add(layers.Conv2D(64, (3, 3), activation='relu'))\n",
        "model.add(layers.MaxPooling2D((2, 2)))\n",
        "model.add(layers.Conv2D(128, (3, 3), activation='relu'))\n",
        "model.add(layers.Conv2D(128, (3, 3), activation='relu'))\n",
        "model.add(layers.MaxPooling2D((2, 2)))\n",
        "model.add(layers.Conv2D(256, (3, 3), activation='relu'))\n",
        "model.add(layers.Conv2D(256, (3, 3), activation='relu'))\n",
        "model.add(layers.MaxPooling2D((2, 2)))\n",
        "model.add(layers.Flatten())\n",
        "model.add(layers.Dense(512, activation='relu'))\n",
        "model.add(layers.Dense(1, activation='sigmoid'))"
      ],
      "execution_count": 0,
      "outputs": []
    },
    {
      "cell_type": "code",
      "metadata": {
        "id": "9WsyNg7AORNZ",
        "colab_type": "code",
        "colab": {}
      },
      "source": [
        "model.compile(optimizer=optimizers.RMSprop(lr=1e-4) ,\n",
        "              loss=\"binary_crossentropy\" , \n",
        "              metrics= ['acc'])"
      ],
      "execution_count": 0,
      "outputs": []
    },
    {
      "cell_type": "code",
      "metadata": {
        "id": "OHPaooqnO0_k",
        "colab_type": "code",
        "outputId": "2fdc6300-46ed-4f6a-85f8-aeeb60e6279c",
        "colab": {
          "base_uri": "https://localhost:8080/",
          "height": 353
        }
      },
      "source": [
        "history = model.fit(train_gen,steps_per_epoch=70,epochs=10, validation_data=val_gen, validation_steps=30)"
      ],
      "execution_count": 0,
      "outputs": [
        {
          "output_type": "stream",
          "text": [
            "Epoch 1/10\n",
            "70/70 [==============================] - 434s 6s/step - loss: 0.6348 - acc: 0.6549 - val_loss: 0.2485 - val_acc: 0.8583\n",
            "Epoch 2/10\n",
            "70/70 [==============================] - 426s 6s/step - loss: 0.4114 - acc: 0.8174 - val_loss: 0.2084 - val_acc: 0.9400\n",
            "Epoch 3/10\n",
            "70/70 [==============================] - 430s 6s/step - loss: 0.3692 - acc: 0.8417 - val_loss: 0.2749 - val_acc: 0.9117\n",
            "Epoch 4/10\n",
            "70/70 [==============================] - 428s 6s/step - loss: 0.2699 - acc: 0.9038 - val_loss: 0.2119 - val_acc: 0.8933\n",
            "Epoch 5/10\n",
            "70/70 [==============================] - 418s 6s/step - loss: 0.2180 - acc: 0.9202 - val_loss: 0.0929 - val_acc: 0.9567\n",
            "Epoch 6/10\n",
            "70/70 [==============================] - 430s 6s/step - loss: 0.1968 - acc: 0.9250 - val_loss: 0.2778 - val_acc: 0.9267\n",
            "Epoch 7/10\n",
            "70/70 [==============================] - 418s 6s/step - loss: 0.1529 - acc: 0.9340 - val_loss: 0.0219 - val_acc: 0.9833\n",
            "Epoch 8/10\n",
            "70/70 [==============================] - 429s 6s/step - loss: 0.1638 - acc: 0.9500 - val_loss: 0.1928 - val_acc: 0.9700\n",
            "Epoch 9/10\n",
            "70/70 [==============================] - 419s 6s/step - loss: 0.1343 - acc: 0.9563 - val_loss: 0.1574 - val_acc: 0.9317\n",
            "Epoch 10/10\n",
            "70/70 [==============================] - 422s 6s/step - loss: 0.1252 - acc: 0.9439 - val_loss: 0.0214 - val_acc: 0.9917\n"
          ],
          "name": "stdout"
        }
      ]
    },
    {
      "cell_type": "code",
      "metadata": {
        "id": "xjZFW-X7O8Mo",
        "colab_type": "code",
        "colab": {}
      },
      "source": [
        "model.save('Covide19 .h5')"
      ],
      "execution_count": 0,
      "outputs": []
    },
    {
      "cell_type": "code",
      "metadata": {
        "id": "JN1IMu33jrbM",
        "colab_type": "code",
        "colab": {}
      },
      "source": [
        ""
      ],
      "execution_count": 0,
      "outputs": []
    }
  ]
}